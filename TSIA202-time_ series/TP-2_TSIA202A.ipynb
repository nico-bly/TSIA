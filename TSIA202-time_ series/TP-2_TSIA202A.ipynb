{
 "cells": [
  {
   "cell_type": "markdown",
   "metadata": {},
   "source": [
    "# TSIA202a - Second Practice Session : Spectral density estimation and periodogram\n",
    "The goal of this second session is to provide a power spectral density estimator of a real, zero-mean, weakly stationary process $X_t$. We suppose that we have access to $n$ observations and we will use the FFT algorithm (that implements the DFT) using `numpy.fft.module`.\n",
    "Recall (from the course) that the periodogram of the observations $X_0, \\dots, X_{n-1}$ can be given as:\n",
    "$$\n",
    "I_n(\\lambda) = \\frac{1}{2\\pi n}|\\sum_{k=0}^{n-1} X_k e^{i\\lambda k}|^2\n",
    "$$\n",
    "\n",
    "Moreover, the Hertglotz theorem provides a relation between the empirical autocovariance $\\hat{\\gamma}_n$ and the periodogram $I_n$:\n",
    "$$\n",
    "\\hat{\\gamma}_n(k) = \\int_{0}^{2\\pi}e^{i\\lambda k}I_n({\\lambda})d\\lambda\n",
    "$$\n",
    "\n",
    "1. For a given $m \\geq n$  we denote also the DFT as:\n",
    "$$\n",
    "DFT(X,m)(k) = \\sum_{h=0}^{n-1}X_he^{-2i\\pi\\frac{kh}{m}}\n",
    "$$\n",
    "Show the following relation: \n",
    "$$I_n(\\frac{2\\pi k}{m}) = \\frac{1}{2\\pi n} |DFT(X,m)(k)|^2$$\n",
    "2. provide a script that compute those $I_n(\\frac{2\\pi k}{m})$ for the time series mentioned in the first practice session\n",
    "3. Show that $I_n(\\lambda) = \\frac{1}{2\\pi} \\sum_{k=0}^{n-1} \\hat{\\gamma}_n(k)e^{-i\\lambda k}$\n",
    "4. How to choose $m$ in order to get a simple relation between $\\hat{\\gamma}_n(k)$ and $I_n(\\frac{2\\pi k}{m})$ ? At the end, given a specific $\\tilde{m}$ show that:\n",
    "$$\n",
    "\\hat{\\gamma}_n(k) = \\frac{1}{n} IDFT\\left(\\left|DFT(X, \\tilde{m})\\right|^2, \\tilde{m}\\right)(k)\n",
    "$$ Try this estimator on the autocovariance of previous time series of the first session.\n",
    "\n",
    "5. In the case of white noise, estimate the variance of the periodogram for several values of $n$ and discuss about it.\n",
    "\n",
    "\n"
   ]
  },
  {
   "cell_type": "markdown",
   "metadata": {},
   "source": [
    "**Billy Nicolas    Kaeppelin Matthieu**"
   ]
  },
  {
   "cell_type": "markdown",
   "metadata": {},
   "source": [
    "## Question 1\n",
    "We use the fact that the norm of a complex number is the same as it's conjugate\n",
    "$$\n",
    "I_n(\\frac{2\\pi k}{m}) = \\frac{1}{2\\pi n} =| \\sum_{h=0}^{n-1} X_h \\exp(\\frac{2i\\pi kh}{m}) |^2 = \\frac{1}{2\\pi n} | \\overline{\\sum_{h=0}^{n-1} X_h \\exp(\\frac{2i\\pi kh}{m})}|^2 =\\frac{1}{2\\pi n} | \\sum_{h=0}^{n-1} \\overline{X_h} \\exp(\\frac{-2i\\pi kh}{m}) |^2 \n",
    "$$\n",
    "\n",
    "$X_h$ is a real process, then we have: $\\overline{X_h}=X_h$, hence:\n",
    "\n",
    "$$\n",
    "I_n(\\frac{2\\pi k}{m}) =  \\frac{1}{2\\pi n} |DFT(X,m)(k)|^2\n",
    "$$\n",
    "\n"
   ]
  },
  {
   "cell_type": "markdown",
   "metadata": {},
   "source": [
    "## Question 2"
   ]
  },
  {
   "cell_type": "code",
   "execution_count": 1,
   "metadata": {},
   "outputs": [],
   "source": [
    "import numpy as np\n",
    "import matplotlib.pyplot as plt"
   ]
  },
  {
   "cell_type": "code",
   "execution_count": 16,
   "metadata": {},
   "outputs": [],
   "source": [
    "n = 1000\n",
    "sigma = 1\n",
    "a = 0.5\n",
    "b= 2\n",
    "K= 100\n",
    "A0 = 2\n",
    "lamb = 0.5\n",
    "phi = np.random.uniform(0, 2*np.pi)\n",
    "\n",
    "# Proccessus du TP1\n",
    "\n",
    "def WN(sigma, n):\n",
    "    # n est la taille du bruit que l'on génère\n",
    "    # sigma est l'écart type du bruit\n",
    "\n",
    "    return np.random.normal(0, sigma, n)\n",
    "\n",
    "def process_ab(sigma,n,a,b):\n",
    "    Z = WN(sigma,n)\n",
    "    return a + b*Z + np.roll(Z,1)\n",
    "\n",
    "def process_sum(sigma,n,a,K):\n",
    "    Z = WN(sigma,n)\n",
    "\n",
    "    X = a\n",
    "    for e in range(0,K+1):\n",
    "        X += (-1/2)**e * np.roll(Z,e) \n",
    "    \n",
    "    return X\n",
    "\n",
    "def process_harmonic(sigma,n,A,lamda):\n",
    "    Z = WN(sigma,n)\n",
    "    phi = np.random.uniform(0, 2*np.pi)\n",
    "    return Z + A*np.cos(lamda*np.arange(n) + phi)\n",
    "\n",
    "def I(signal, m):\n",
    "    n = len(signal)\n",
    "    I = np.zeros(m)\n",
    "    dft = np.fft.fft(signal, m)\n",
    "    \n",
    "    for k in range(m):\n",
    "        frequency = 2 * np.pi * k / m\n",
    "        I[k] = (1 / (2 * np.pi * n)) * np.abs(dft[k])**2\n",
    "    \n",
    "    return I"
   ]
  },
  {
   "cell_type": "markdown",
   "metadata": {},
   "source": [
    "## Question 3"
   ]
  },
  {
   "cell_type": "markdown",
   "metadata": {},
   "source": [
    "$$\n",
    "\\frac{1}{2\\pi}\\sum_{k=0}^{n-1} \\hat{\\gamma _n}(k)e^{-i\\lambda k} = \\frac{1}{2\\pi}\\sum_{k=0}^{n-1}(\\int_{0}^{2\\pi} e^{i\\mu k}I_n(\\mu)\\, d\\mu )e^{-i\\lambda k}\\nonumber = \\frac{1}{2\\pi}\\sum_{k=0}^{n-1}(\\int_{0}^{2\\pi} e^{i\\mu k}\\frac{1}{2\\pi n} \\left| \\sum_{s=0}^{n-1} X_j e^{i\\mu s} \\right|^2 \\, d\\mu )e^{-i\\lambda k}\n",
    "$$\n",
    "\n",
    "$$\n",
    "= \\frac{1}{2\\pi}\\sum_{k=0}^{n-1}(\\int_{0}^{2\\pi} e^{i\\mu k}\\frac{1}{2\\pi n}\\sum_{j=0}^{n-1}\\sum_{p=0}^{n-1}X_j\\overline{X_p}e^{i \\mu j} e^{-i \\mu p}   \\, d\\mu )e^{-i\\lambda k} =\\frac{1}{4\\pi^2 n }\\sum_{k=0}^{n-1}\\sum_{j=0}^{n-1}\\sum_{p=0}^{n-1}X_j\\overline{X_p}e^{-ik\\lambda}\\int_{0}^{2\\pi}e^{i\\mu (k+j-p)}\\, d\\mu\n",
    "\n",
    "$$"
   ]
  },
  {
   "cell_type": "markdown",
   "metadata": {},
   "source": [
    "We know that $\\int_{0}^{2\\pi}e^{i\\mu (k+j-p)}\\, d\\mu = 2 \\pi$ when $(k+j-p) = 0$ and $0$ elsewhere, that simplifies one of the sum."
   ]
  },
  {
   "cell_type": "markdown",
   "metadata": {},
   "source": [
    "$$\n",
    "\\frac{1}{2\\pi}\\sum_{k=0}^{n-1} \\hat{\\gamma _n}(k)e^{-i\\lambda k} = \\frac{1}{2\\pi n} \\sum_{k=0}^{n-1}\\sum_{j=-k}^{n-1-k} X_j \\overline{X_{k+j}} e^{-ik\\lambda}\n",
    "$$"
   ]
  },
  {
   "cell_type": "markdown",
   "metadata": {},
   "source": [
    "We make a changement of variable and we separate the exponential to get a produc of a complex sum and it's conjugate"
   ]
  },
  {
   "cell_type": "markdown",
   "metadata": {},
   "source": [
    "$$\n",
    "\\frac{1}{2\\pi}\\sum_{k=0}^{n-1} \\hat{\\gamma _n}(k)e^{-i\\lambda k} =  \\frac{1}{2\\pi n}|\\sum_{k=0}^{n-1} X_k e^{i\\lambda k}|^2 = I_n(\\lambda)\n",
    "$$"
   ]
  },
  {
   "cell_type": "markdown",
   "metadata": {},
   "source": [
    "## Question 4\n",
    "\n",
    "On utilise la question précédente:\n",
    "\n",
    "$$ I_n(\\frac{2\\pi k}{m}) = \\frac{1}{2\\pi} \\sum_{p=0}^{n-1} \\hat{\\gamma}_n(k)e^{-i \\frac{2\\pi k}{m} p} $$"
   ]
  }
 ],
 "metadata": {
  "kernelspec": {
   "display_name": "Python 3",
   "language": "python",
   "name": "python3"
  },
  "language_info": {
   "codemirror_mode": {
    "name": "ipython",
    "version": 3
   },
   "file_extension": ".py",
   "mimetype": "text/x-python",
   "name": "python",
   "nbconvert_exporter": "python",
   "pygments_lexer": "ipython3",
   "version": "3.10.11"
  },
  "orig_nbformat": 4
 },
 "nbformat": 4,
 "nbformat_minor": 2
}
