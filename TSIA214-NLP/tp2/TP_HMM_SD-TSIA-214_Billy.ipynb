{
 "cells": [
  {
   "cell_type": "markdown",
   "metadata": {},
   "source": [
    "# Text segmentation using Hidden Markov Models"
   ]
  },
  {
   "cell_type": "code",
   "execution_count": 1,
   "metadata": {},
   "outputs": [],
   "source": [
    "import os\n",
    "import glob\n",
    "import numpy as np"
   ]
  },
  {
   "cell_type": "code",
   "execution_count": 2,
   "metadata": {},
   "outputs": [],
   "source": [
    "ROOT = os.path.abspath('.')\n",
    "\n",
    "PERL_DIR = os.path.join(ROOT,'PerlScriptAndModel')\n",
    "RES_DIR = os.path.join(ROOT,'res')"
   ]
  },
  {
   "cell_type": "markdown",
   "metadata": {},
   "source": [
    "### Coding/Decoding Mails"
   ]
  },
  {
   "cell_type": "code",
   "execution_count": 3,
   "metadata": {},
   "outputs": [],
   "source": [
    "DATA_DIR = os.path.join(ROOT,'dat')\n",
    "\n",
    "# Iterate through files and load the text \n",
    "def files_iter(data_dir, with_name=False):\n",
    "    files = glob.glob('{}/*.dat'.format((data_dir)))\n",
    "    if with_name:\n",
    "        for f in files:\n",
    "            # Get the filename \n",
    "            name = f.split('/')[-1].split('.')[0]\n",
    "            # Return filename and associated text\n",
    "            yield ...\n",
    "    else:\n",
    "        for f in files :\n",
    "            yield ..."
   ]
  },
  {
   "cell_type": "code",
   "execution_count": 4,
   "metadata": {},
   "outputs": [],
   "source": [
    "# And we get a generator that will allow us to iterate through the mails\n",
    "mail_iter = files_iter(DATA_DIR, with_name=True)"
   ]
  },
  {
   "cell_type": "markdown",
   "metadata": {},
   "source": [
    "### Distribution files"
   ]
  },
  {
   "cell_type": "code",
   "execution_count": 5,
   "metadata": {},
   "outputs": [],
   "source": [
    "PERL_DIR = ...\n",
    "\n",
    "# Writing a function to get the probability data\n",
    "def get_emission_prob(perl_dir):\n",
    "    return ..."
   ]
  },
  {
   "cell_type": "code",
   "execution_count": 6,
   "metadata": {},
   "outputs": [],
   "source": [
    "# Inputs to the Viterbi function\n",
    "trans = ...\n",
    "emission_prob = get_emission_prob(PERL_DIR)\n",
    "states = ...\n",
    "start_prob = ..."
   ]
  },
  {
   "cell_type": "markdown",
   "metadata": {},
   "source": [
    "### To implement:"
   ]
  },
  {
   "cell_type": "code",
   "execution_count": 7,
   "metadata": {},
   "outputs": [],
   "source": [
    "# Viterbi function\n",
    "def viterbi(obs, states, start_prob, trans, emission_prob):\n",
    "    \"\"\"\n",
    "        Viterbi Algorithm Implementation\n",
    "\n",
    "        Keyword arguments:\n",
    "            - obs: sequence of observation\n",
    "            - states:list of states\n",
    "            - start_prob:vector of the initial probabilities\n",
    "            - trans: transition matrix\n",
    "            - emission_prob: emission probability matrix\n",
    "        Returns:\n",
    "            - seq: sequence of state\n",
    "    \"\"\"\n",
    "\n",
    "    # Avoid underflow: use the logarithm !\n",
    "    # Avoid 0 in logarithm: use a small constant !\n",
    "    small = ...\n",
    "    \n",
    "    start_prob = ...\n",
    "    trans = ...\n",
    "    emission_prob = ...\n",
    "    \n",
    "    T = ... # Number of observations\n",
    "    N = ... # Number of model states\n",
    "    \n",
    "    # Initialisation\n",
    "    log_l = ...\n",
    "    bcktr = ...\n",
    "    \n",
    "    # Viterbi\n",
    "    \n",
    "    # Forward loop:\n",
    "    log_l[0,:]= ...\n",
    "    for t in range(...):\n",
    "        logl[t, :] = ...\n",
    "        bcktr[t, :] = ...\n",
    "    # Backward loop\n",
    "    path = ...\n",
    "    path[-1] = ... \n",
    "    for i in range(...):\n",
    "        path[i - 1] = ...\n",
    "\n",
    "    return ..."
   ]
  },
  {
   "cell_type": "code",
   "execution_count": 8,
   "metadata": {},
   "outputs": [],
   "source": [
    "RES_DIR = ...\n",
    "\n",
    "# Creating a directory to put the result of the viterbi function\n",
    "if not os.path.exists(RES_DIR):\n",
    "    os.mkdir(RES_DIR)\n",
    "    \n",
    "# Function that will write a viterbi path for a mail in a dedicated result file\n",
    "def create_viterbi_path_file(mail_name, viterbi_path):\n",
    "    with open('{}/{}_path.txt'.format(RES_DIR, mail_name), 'w') as f: \n",
    "        f.write(''.join([str(c) for c in viterbi_path]))   "
   ]
  },
  {
   "cell_type": "code",
   "execution_count": 9,
   "metadata": {},
   "outputs": [],
   "source": [
    "# Using our generator, we get the mail names and data\n",
    "for name_file, data in mail_iter:\n",
    "    # Find out the viterbi path using viterbi\n",
    "    viterbi_path = ...\n",
    "    # Put it in the result file\n",
    "    create_viterbi_path_file(name_file, viterbi_path)"
   ]
  },
  {
   "cell_type": "markdown",
   "metadata": {},
   "source": [
    "### Visualizing segmentation"
   ]
  },
  {
   "cell_type": "code",
   "execution_count": 10,
   "metadata": {},
   "outputs": [],
   "source": [
    "# Writing a function to go into the directory and execute the perl script \"segment.pl\" on the mail in the given path\n",
    "def exec_perl_script(mail, path):\n",
    "    res = !cd {PERL_DIR}; perl segment.pl {mail} {path}\n",
    "    return res\n",
    "\n",
    "# Writing a function getting the original mail, the result of viterbi, and applying the segmentation script\n",
    "# Then putting the result\n",
    "def segment_mail(mail_name, data_dir, output_dir):\n",
    "    # Get the full path of the mail\n",
    "    mail = ...\n",
    "    # Get the full path of the result\n",
    "    path = ...\n",
    "    # Execute the visualization script\n",
    "    formatted_mail = ...\n",
    "    # Get the results\n",
    "    formatted_mail_text = ...\n",
    "    # Go through the resulting text until the cutting line\n",
    "    ...\n",
    "    # If this was not the last line, return the text cut in to parts: header and body\n",
    "    ...\n",
    "    # If not, it's just a header\n",
    "    ..."
   ]
  },
  {
   "cell_type": "code",
   "execution_count": 11,
   "metadata": {},
   "outputs": [],
   "source": [
    "# Getting mails names\n",
    "...\n",
    "# Call the function and look at the result of segmentation\n",
    "..."
   ]
  }
 ],
 "metadata": {
  "kernelspec": {
   "display_name": "Python 3 (ipykernel)",
   "language": "python",
   "name": "python3"
  },
  "language_info": {
   "codemirror_mode": {
    "name": "ipython",
    "version": 3
   },
   "file_extension": ".py",
   "mimetype": "text/x-python",
   "name": "python",
   "nbconvert_exporter": "python",
   "pygments_lexer": "ipython3",
   "version": "3.7.10"
  }
 },
 "nbformat": 4,
 "nbformat_minor": 2
}
